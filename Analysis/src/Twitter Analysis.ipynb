{
 "cells": [
  {
   "cell_type": "code",
   "execution_count": 21,
   "metadata": {},
   "outputs": [],
   "source": [
    "from pymongo import MongoClient\n",
    "import json\n",
    "import re\n",
    "#Setup Mongo and create the database and collection\n",
    "client = MongoClient('db')\n",
    "db = client['tweets']\n",
    "coll_reference = db.austin_tweets"
   ]
  },
  {
   "cell_type": "code",
   "execution_count": 2,
   "metadata": {},
   "outputs": [
    {
     "data": {
      "text/plain": [
       "39"
      ]
     },
     "execution_count": 2,
     "metadata": {},
     "output_type": "execute_result"
    }
   ],
   "source": [
    "coll_reference.count()"
   ]
  },
  {
   "cell_type": "code",
   "execution_count": 30,
   "metadata": {
    "scrolled": true
   },
   "outputs": [
    {
     "name": "stdout",
     "output_type": "stream",
     "text": [
      "------------------------------------\n",
      "@lalawuvs “Snowing” https://t.co/Kp5gWhQ4re\n",
      "------------------------------------\n",
      "Free coach Norris\n",
      "------------------------------------\n",
      "@ANAGABRIELRL en San Cristóbal, Venezuela 2013! 🎶🇲🇽👏 “Hasta Que Te Conocí” 🎶 Un tema que jamás debe faltar en los c… https://t.co/E5UnXSJtTQ\n",
      "------------------------------------\n",
      "Yuck fou\n",
      "------------------------------------\n",
      "@SmoooveKyle 😭😭 ! Bet I’ll shoot one up for you ! For sure !\n",
      "------------------------------------\n",
      "After the day I had today, I really needed to see this. I’m figuring everyone else needs to see this too. https://t.co/NqvGa9TISf\n",
      "------------------------------------\n",
      "I know. It’s just wishful thinking from a Texan of 40 years with very little snow time. 🙃\n",
      "------------------------------------\n",
      "So, any of you guys know how to “salt your driveway”? https://t.co/r3MozsF5cy\n",
      "------------------------------------\n",
      "I stay eating all types of junk food .\n",
      "------------------------------------\n",
      "i just wanna cry wTHeCk is up with me\n",
      "------------------------------------\n",
      "Special Joint Meeting with Town Council, 4A &amp; 4B https://t.co/Pan6qay7Yc\n",
      "------------------------------------\n",
      "It gets cold for two days and then snows?\n",
      "------------------------------------\n",
      "In session - The Architecture of a Multi-Cloud Environment with Kubernetes.\n",
      "#KubeCon2017 https://t.co/17RzWv3H7G\n",
      "------------------------------------\n",
      "@Rich_Homie_JB the only dude i know who beat against lufkin\n",
      "------------------------------------\n",
      "People are dumb https://t.co/zLDKWF3IUD\n",
      "------------------------------------\n",
      "I like how @TomiLahren will talk about \"America\", but won't bring up hardly anything at all about minority history.… https://t.co/ddZEnqaoUu\n",
      "------------------------------------\n",
      "15 Practically Free Holiday Activities for Your Family https://t.co/z0CTMtMBim\n",
      "------------------------------------\n",
      "guys I got a fucken 90 on my psychology final 😭😭\n",
      "------------------------------------\n",
      "Que rápido pasa el tiempo no @YellowMellowMG @Juanmasaurus ??? Por fin #MELOSAURUS vuelve!! 💕💕 https://t.co/G3NLla44nM\n",
      "------------------------------------\n",
      "Sleet in Lakeway @KXAN_Weather https://t.co/uu0jhkfmph\n",
      "------------------------------------\n",
      "Want to work in #Orange, TX? View our latest opening: https://t.co/NxXOS7nJ3f #Retail #Job #Jobs #Hiring #CareerArc\n",
      "------------------------------------\n",
      "So I tried bitcoin.....\n",
      "------------------------------------\n",
      "WE’VE GOT SNOW!\n",
      "------------------------------------\n",
      "Want to work at Labatt Food Service? We're #hiring in #SanAntonio, TX! Click for details: https://t.co/IlPAhoF5lE #FacilitiesMgmt #Job #Jobs\n",
      "------------------------------------\n",
      "@convoynetwork @Olallo_Rubio La venganza de ustedes es no darle voz a Betornillo porque vos haces la voz.\n",
      "------------------------------------\n",
      "i am so drained\n",
      "------------------------------------\n",
      "It's bowing in Kyle and dripping springs and it's supposed to snow in San Antonio tonight. But is it gonna snow here in SM lol\n",
      "------------------------------------\n",
      "That's a #snowflake  and those are too! Shut down #texas #close the #schools @ Georgetown… https://t.co/FAZ21voCBB\n",
      "------------------------------------\n",
      "It be yo own oven https://t.co/BtQa2rQeVG\n",
      "------------------------------------\n",
      "It’s heckin snowing\n",
      "------------------------------------\n",
      "I once beat @JBlaineTrain in a race back to the house. Sheriff’s show up. They didn’t see me...”Hey blaine, there’s… https://t.co/ksfrpmfZBR\n",
      "------------------------------------\n",
      "Sometimes Twitter is wonderful... https://t.co/PLjkRWkqmr\n",
      "------------------------------------\n",
      "@theJfen @LeilaVenzor4 “Don’t do that anymore” \n",
      "\n",
      "Sorry 😂\n",
      "------------------------------------\n",
      "@kaylamg__ Just flurries but there’s a lot coming down\n",
      "------------------------------------\n",
      "Join the Starbucks team! See our latest #job opening here: https://t.co/ZIxs73D7uT #CustomerService #RoundRock, TX #Hiring #CareerArc\n",
      "------------------------------------\n",
      "Drone footage incoming ❄️❄️\n",
      "------------------------------------\n",
      "Not sure I ever thought I’s see this. ❄️ #SnowDay (@ Schroeter Park Playground in Austin, TX)… https://t.co/xC1eOIhzJr\n",
      "------------------------------------\n",
      "@TheNotoriousNIK No not at all! You got skills, it was fun back when radio djs would do parodies!  Which is why y’a… https://t.co/RbI9KktWta\n",
      "------------------------------------\n",
      "Beautiful walk this morning in Austin!! Thank you Lord! https://t.co/JOsux2YHjW\n"
     ]
    }
   ],
   "source": [
    "#Print tweets\n",
    "for tweet in coll_reference.find():\n",
    "    print('------------------------------------')\n",
    "    print(tweet['text'])\n",
    "    "
   ]
  },
  {
   "cell_type": "code",
   "execution_count": 31,
   "metadata": {},
   "outputs": [
    {
     "data": {
      "text/plain": [
       "dict_keys(['_id', 'created_at', 'id', 'id_str', 'text', 'display_text_range', 'source', 'truncated', 'in_reply_to_status_id', 'in_reply_to_status_id_str', 'in_reply_to_user_id', 'in_reply_to_user_id_str', 'in_reply_to_screen_name', 'user', 'geo', 'coordinates', 'place', 'contributors', 'is_quote_status', 'quote_count', 'reply_count', 'retweet_count', 'favorite_count', 'entities', 'extended_entities', 'favorited', 'retweeted', 'possibly_sensitive', 'filter_level', 'lang', 'timestamp_ms'])"
      ]
     },
     "execution_count": 31,
     "metadata": {},
     "output_type": "execute_result"
    }
   ],
   "source": [
    "tweet.keys()"
   ]
  },
  {
   "cell_type": "code",
   "execution_count": 40,
   "metadata": {},
   "outputs": [
    {
     "data": {
      "text/plain": [
       "8"
      ]
     },
     "execution_count": 40,
     "metadata": {},
     "output_type": "execute_result"
    }
   ],
   "source": [
    "coll_reference.find({ 'text': {'$regex': 'snow', '$options': 'i'} }).count()"
   ]
  },
  {
   "cell_type": "code",
   "execution_count": null,
   "metadata": {},
   "outputs": [],
   "source": []
  }
 ],
 "metadata": {
  "kernelspec": {
   "display_name": "Python 3",
   "language": "python",
   "name": "python3"
  },
  "language_info": {
   "codemirror_mode": {
    "name": "ipython",
    "version": 3
   },
   "file_extension": ".py",
   "mimetype": "text/x-python",
   "name": "python",
   "nbconvert_exporter": "python",
   "pygments_lexer": "ipython3",
   "version": "3.6.2"
  }
 },
 "nbformat": 4,
 "nbformat_minor": 2
}
