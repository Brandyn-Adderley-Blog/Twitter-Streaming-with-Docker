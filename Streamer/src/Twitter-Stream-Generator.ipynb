{
 "cells": [
  {
   "cell_type": "code",
   "execution_count": null,
   "metadata": {},
   "outputs": [],
   "source": [
    "#Import the necessary methods from tweepy library\n",
    "from tweepy.streaming import StreamListener\n",
    "from tweepy import OAuthHandler\n",
    "from tweepy import Stream\n",
    "import json\n",
    "from pymongo import MongoClient\n",
    "\n",
    "#Setup Mongo and create the database and collection\n",
    "client = MongoClient('db')\n",
    "db = client['tweets']\n",
    "coll_reference = db.austin_tweets\n",
    "\n",
    "#Variables that contains the user credentials to access Twitter API \n",
    "access_token = \"367286727-HJD6adCKIiZ4eFIDVe3V2hw9J3ht4qokMUSm7O2U\"\n",
    "access_token_secret = \"oYSrxWhI1CDiuK7jGf27IyJBMQHr5szLbPNBd72UKbII6\"\n",
    "consumer_key = \"UOSzs5t4TPCJRcWOW6Vgw1NsW\"\n",
    "consumer_secret = \"oRCBvjb7y83X8q3R4scpMebiQAV0yuD4D6GOBqTavNZZvCB8Vd\"\n",
    "\n",
    "#Austin Location Box\n",
    "austin_bbox=[-98.1246570647,29.9824373646,-97.313880533,30.6673079999]\n",
    "\n",
    "\n",
    "#This is a basic listener that just prints received tweets to stdout.\n",
    "class MongoListener(StreamListener):\n",
    "\n",
    "    def on_data(self, data):\n",
    "        datajson = json.loads(data)\n",
    "        #print(datajson)\n",
    "        coll_reference.insert_one(datajson)\n",
    "        return True\n",
    "\n",
    "    def on_error(self, status):\n",
    "        print(status)\n",
    "        #Continue even if there is an error\n",
    "        return True\n",
    "\n",
    "#This handles Twitter authetication and the connection to Twitter Streaming API\n",
    "tweetlist = MongoListener()\n",
    "auth = OAuthHandler(consumer_key, consumer_secret)\n",
    "auth.set_access_token(access_token, access_token_secret)\n",
    "stream = Stream(auth, tweetlist)\n",
    "\n",
    "#Filters by the box bounded, which is Austin.\n",
    "stream.filter(locations=austin_bbox)"
   ]
  },
  {
   "cell_type": "code",
   "execution_count": null,
   "metadata": {},
   "outputs": [],
   "source": [
    "#Check to see if the stream is working. Used for Debugging purposes\n",
    "coll_reference.count()"
   ]
  }
 ],
 "metadata": {
  "kernelspec": {
   "display_name": "Python 3",
   "language": "python",
   "name": "python3"
  },
  "language_info": {
   "codemirror_mode": {
    "name": "ipython",
    "version": 3
   },
   "file_extension": ".py",
   "mimetype": "text/x-python",
   "name": "python",
   "nbconvert_exporter": "python",
   "pygments_lexer": "ipython3",
   "version": "3.6.3"
  }
 },
 "nbformat": 4,
 "nbformat_minor": 2
}
